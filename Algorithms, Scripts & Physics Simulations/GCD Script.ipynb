{
 "cells": [
  {
   "cell_type": "markdown",
   "metadata": {},
   "source": [
    "# Euclidean Greatest Common Divisor (GCD) Function Script"
   ]
  },
  {
   "cell_type": "markdown",
   "metadata": {},
   "source": [
    "In mathematics, the greatest common divisor (GCD) of two or more integers, which are not all zero, is the largest positive integer that divides each of the integers. For two integers x, y, the greatest common divisor of x and y is denoted ${\\displaystyle \\gcd(x,y)}$. For example, the GCD of 8 and 12 is 4, that is, ${\\displaystyle \\gcd(8,12)=4}$."
   ]
  },
  {
   "cell_type": "markdown",
   "metadata": {},
   "source": [
    "The greatest common divisor (GCD) of two nonzero integers a and b is the greatest positive integer d such that d is a divisor of both *a* and *b*; that is, there are integers *e* and *f* such that *a = de* and *b = df*, and *d* is the largest such integer.\n",
    "\n",
    "This definition also applies when one of *a* and *b* is zero. In this case, the GCD is the absolute value of the non zero integer: $\\gcd(a, 0) = \\gcd(0, a) = |a|$. This case is important as the terminating step of the Euclidean algorithm."
   ]
  },
  {
   "cell_type": "markdown",
   "metadata": {},
   "source": [
    "### The Algorithm"
   ]
  },
  {
   "cell_type": "markdown",
   "metadata": {},
   "source": [
    "An optimal version of the algorithm exists such that the difference of the two numbers a and b is replaced by the remainder of the Euclidean division (also called division with remainder) of a by b.\n",
    "\n",
    "Denoting this remainder as $a mod b$, the algorithm replaces $(a, b)$ by $(b, a mod b)$ repeatedly until the pair is $(d, 0)$, where $d$ is the greatest common divisor."
   ]
  },
  {
   "cell_type": "code",
   "execution_count": 1,
   "metadata": {},
   "outputs": [],
   "source": [
    "def gcd(a, b) :\n",
    "    if (a<b) :\n",
    "        tmp = a\n",
    "        a = b\n",
    "        b = tmp\n",
    "\n",
    "    count = 1\n",
    "    while True:\n",
    "        r = a%b\n",
    "        print (\"Loop \" + str(count) + \" : a = \" + str(a) + \" , b = \" + str(b)\n",
    "         + \", r = \" + str(r))\n",
    "\n",
    "        if r == 0 :\n",
    "            print (\"GCD Found: \" + str(b))\n",
    "            return b\n",
    "        else:\n",
    "            a = b\n",
    "            b = r\n",
    "        count = count + 1"
   ]
  },
  {
   "cell_type": "code",
   "execution_count": 4,
   "metadata": {},
   "outputs": [
    {
     "name": "stdout",
     "output_type": "stream",
     "text": [
      "Loop 1 : a = 9453 , b = 462, r = 213\n",
      "Loop 2 : a = 462 , b = 213, r = 36\n",
      "Loop 3 : a = 213 , b = 36, r = 33\n",
      "Loop 4 : a = 36 , b = 33, r = 3\n",
      "Loop 5 : a = 33 , b = 3, r = 0\n",
      "GCD Found: 3\n"
     ]
    },
    {
     "data": {
      "text/plain": [
       "3"
      ]
     },
     "execution_count": 4,
     "metadata": {},
     "output_type": "execute_result"
    }
   ],
   "source": [
    "gcd(9453,462)"
   ]
  },
  {
   "cell_type": "markdown",
   "metadata": {},
   "source": []
  }
 ],
 "metadata": {
  "kernelspec": {
   "display_name": "Python 3",
   "language": "python",
   "name": "python3"
  },
  "language_info": {
   "codemirror_mode": {
    "name": "ipython",
    "version": 3
   },
   "file_extension": ".py",
   "mimetype": "text/x-python",
   "name": "python",
   "nbconvert_exporter": "python",
   "pygments_lexer": "ipython3",
   "version": "3.8.5"
  }
 },
 "nbformat": 4,
 "nbformat_minor": 4
}
