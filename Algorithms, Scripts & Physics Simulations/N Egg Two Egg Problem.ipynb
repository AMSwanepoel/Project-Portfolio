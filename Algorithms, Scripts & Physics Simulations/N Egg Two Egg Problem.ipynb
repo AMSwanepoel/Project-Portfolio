{
 "cells": [
  {
   "cell_type": "markdown",
   "id": "isolated-wells",
   "metadata": {},
   "source": [
    "# The N-Egg & Two Egg Problem"
   ]
  },
  {
   "cell_type": "markdown",
   "id": "silver-america",
   "metadata": {},
   "source": [
    "### Introduction"
   ]
  },
  {
   "cell_type": "markdown",
   "id": "orange-ordinary",
   "metadata": {},
   "source": [
    "You are given two eggs, and access to a 100-storey building. Both eggs are identical. The aim is to find out the highest floor from which an egg will not break when dropped out of a window from that floor. If an egg is dropped and does not break, it is undamaged and can be dropped again. However, once an egg is broken, that’s it for that egg.\n",
    "\n",
    "If an egg breaks when dropped from floor n, then it would also have broken from any floor above that. If an egg survives a fall, then it will survive any fall shorter than that.The question is: What strategy should you adopt to minimize the number egg drops it takes to find the solution? (And what is the worst case for the number of drops it will take?). \n",
    "\n",
    "Many famous Chinese large enterprises, Google and Facebook often examine this question in a job interview, but they throw cups, broken bowls or something else instead of eggs, because they think throwing eggs is too wasteful. It is well known the problem can be extended to an n-story or n-egg problem, such that the complexity is highly increased and allows for more optimisation solutions.\n",
    "\n",
    "The most common approach would be the brute-force approach such that you drop an egg from each consecutive floor, and continue to do so until the egg breaks from a particular floor. This is greatly inefficient as the number of drops required increases linearly with each given floor."
   ]
  },
  {
   "cell_type": "markdown",
   "id": "suspended-fitness",
   "metadata": {},
   "source": [
    "### Approaches"
   ]
  },
  {
   "cell_type": "markdown",
   "id": "younger-payment",
   "metadata": {},
   "source": [
    "#### Binary Approach"
   ]
  },
  {
   "cell_type": "markdown",
   "id": "advance-times",
   "metadata": {},
   "source": [
    "With a binary search strategy, we’d start with floor 50, and drop the egg from the 50th floor. If the egg breaks we know our n is below 50, if it’s intact the floor we want is above 50. Supposing the egg breaks, the problem here is now we’ve lost an egg and only narrowed down our search by 50 numbers. The next step would normally be to split that 50 again and dropping the egg at floor 25, but if it breaks we still haven’t found our floor. If it doesn’t, it we’ve only delayed the inevitable by one more step — and still no solution. Worst case scenario: we have to drop our eggs 50 times."
   ]
  },
  {
   "cell_type": "markdown",
   "id": "informed-radiation",
   "metadata": {},
   "source": [
    "#### Divide-And-Conquer"
   ]
  },
  {
   "cell_type": "markdown",
   "id": "drawn-overall",
   "metadata": {},
   "source": [
    "We can start off by dropping an egg at floor 10, increasing the drop floor by 10 at a time, then going back to drop one floor at a time until we find that n. If our egg breaks at floor 10, we know n is one of the 9 floors below us.\n",
    "Worst case, the egg drops and doesn’t break until floor 100 (10 drops) and we drop the second egg but don’t break it for floors 91–99.\n",
    "the expected value of the worst case drop count is given to be 19 drops."
   ]
  },
  {
   "cell_type": "markdown",
   "id": "subjective-affairs",
   "metadata": {},
   "source": [
    "#### Minimisation of Maximum Regret"
   ]
  },
  {
   "cell_type": "markdown",
   "id": "important-singer",
   "metadata": {},
   "source": [
    "Imagine we drop our first egg from floor n, if it breaks, we can step through the previous $(n-1)$ floors one-by-one.\n",
    "\n",
    "If it doesn’t break, rather than jumping up another n floors, instead we should step up just (n-1) floors (because we have one less drop available if we have to switch to one-by-one floors), so the next floor we should try is floor $n + (n-1)$.\n",
    "\n",
    "Similarly, if this drop does not break, we next need to jump up to floor $n + (n-1) + (n-2)$, then floor $n + (n-1) + (n-2) + (n-3)+…$.\n",
    "\n",
    "We keep reducing the step by one each time we jump up, until that step-up is just one floor, and get the following equation for a 100 floor building:\n",
    "\n",
    "$n + (n-1) + (n-2) + (n-3) + (n-4) + … + 1  >=  100$\n",
    "\n",
    "This summation, as many will recognize, is the formula for triangular numbers (which kind of makes sense, since we’re reducing the step by one each drop we make) and can be simplified to:\n",
    "\n",
    "$n (n+1) / 2  >=  100$\n",
    "\n",
    "This is a quadratic equation, with the positive root of 13.651 Which we round up to **14**. "
   ]
  },
  {
   "cell_type": "code",
   "execution_count": 11,
   "id": "charming-healing",
   "metadata": {},
   "outputs": [
    {
     "name": "stdout",
     "output_type": "stream",
     "text": [
      "14\n"
     ]
    }
   ],
   "source": [
    "import functools\n",
    "import sys\n",
    "\n",
    "\n",
    "def memoize(f):\n",
    "    cache = {}\n",
    "    @functools.wraps(f)\n",
    "    def newfunc(*args):\n",
    "        args = tuple(args)\n",
    "        if args not in cache:\n",
    "            cache[args] = f(*args)\n",
    "        return cache[args]\n",
    "    return newfunc\n",
    "\n",
    "\n",
    "@memoize\n",
    "def worst_case_trial_count(floors, eggs):\n",
    "    if eggs == 1 or floors < 2:\n",
    "        return floors\n",
    "    return min(1 + max(worst_case_trial_count(i - 1, eggs - 1),\n",
    "                       worst_case_trial_count(floors - i, eggs))\n",
    "               for i in range(1, floors))\n",
    "\n",
    "\n",
    "if __name__ == '__main__':\n",
    "    print(worst_case_trial_count(int(100), int(2)))"
   ]
  },
  {
   "cell_type": "code",
   "execution_count": null,
   "id": "alive-trademark",
   "metadata": {},
   "outputs": [],
   "source": []
  }
 ],
 "metadata": {
  "kernelspec": {
   "display_name": "Python 3",
   "language": "python",
   "name": "python3"
  },
  "language_info": {
   "codemirror_mode": {
    "name": "ipython",
    "version": 3
   },
   "file_extension": ".py",
   "mimetype": "text/x-python",
   "name": "python",
   "nbconvert_exporter": "python",
   "pygments_lexer": "ipython3",
   "version": "3.8.5"
  }
 },
 "nbformat": 4,
 "nbformat_minor": 5
}
